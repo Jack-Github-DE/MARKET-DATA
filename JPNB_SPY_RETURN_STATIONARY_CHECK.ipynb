{
 "cells": [
  {
   "cell_type": "markdown",
   "metadata": {},
   "source": [
    "# Work on SPY daily data to see some simply statistical feature of return\n",
    "\n",
    "Most of the tests done below are from the two links\n",
    "\n",
    "https://pythondata.com/stationary-data-tests-for-time-series-forecasting/\n",
    "\n",
    "https://github.com/2wavetech/How-to-Check-if-Time-Series-Data-is-Stationary-with-Python"
   ]
  },
  {
   "cell_type": "code",
   "execution_count": 1,
   "metadata": {},
   "outputs": [],
   "source": [
    "%matplotlib inline\n",
    "import numpy as np\n",
    "import matplotlib.pyplot as plt\n",
    "import pandas as pd\n",
    "import os"
   ]
  },
  {
   "cell_type": "code",
   "execution_count": 2,
   "metadata": {},
   "outputs": [],
   "source": [
    "# Define a func to return head and tail of a df\n",
    "def ends(df,x=1):\n",
    "    dfends=df.head(x).append(df.tail(x))\n",
    "    return dfends"
   ]
  },
  {
   "cell_type": "code",
   "execution_count": 3,
   "metadata": {},
   "outputs": [
    {
     "data": {
      "text/html": [
       "<div>\n",
       "<style scoped>\n",
       "    .dataframe tbody tr th:only-of-type {\n",
       "        vertical-align: middle;\n",
       "    }\n",
       "\n",
       "    .dataframe tbody tr th {\n",
       "        vertical-align: top;\n",
       "    }\n",
       "\n",
       "    .dataframe thead th {\n",
       "        text-align: right;\n",
       "    }\n",
       "</style>\n",
       "<table border=\"1\" class=\"dataframe\">\n",
       "  <thead>\n",
       "    <tr style=\"text-align: right;\">\n",
       "      <th></th>\n",
       "      <th>Date</th>\n",
       "      <th>Open</th>\n",
       "      <th>High</th>\n",
       "      <th>Low</th>\n",
       "      <th>Close</th>\n",
       "      <th>Adj Close</th>\n",
       "      <th>Volume</th>\n",
       "      <th>Symbol</th>\n",
       "      <th>Row Count</th>\n",
       "      <th>t0_pct</th>\n",
       "      <th>...</th>\n",
       "      <th>t1_pct</th>\n",
       "      <th>t2_pct</th>\n",
       "      <th>t3_pct</th>\n",
       "      <th>t4_pct</th>\n",
       "      <th>t5_pct</th>\n",
       "      <th>t1_cumu_pct</th>\n",
       "      <th>t2_cumu_pct</th>\n",
       "      <th>t3_cumu_pct</th>\n",
       "      <th>t4_cumu_pct</th>\n",
       "      <th>t5_cumu_pct</th>\n",
       "    </tr>\n",
       "  </thead>\n",
       "  <tbody>\n",
       "    <tr>\n",
       "      <th>0</th>\n",
       "      <td>2015-01-12</td>\n",
       "      <td>40.610001</td>\n",
       "      <td>40.720001</td>\n",
       "      <td>39.950001</td>\n",
       "      <td>40.110001</td>\n",
       "      <td>38.303940</td>\n",
       "      <td>2770800.0</td>\n",
       "      <td>A</td>\n",
       "      <td>1246</td>\n",
       "      <td>-0.011825</td>\n",
       "      <td>...</td>\n",
       "      <td>-0.013962</td>\n",
       "      <td>-0.012389</td>\n",
       "      <td>-0.026881</td>\n",
       "      <td>0.006314</td>\n",
       "      <td>-0.008366</td>\n",
       "      <td>-0.013962</td>\n",
       "      <td>-0.026178</td>\n",
       "      <td>-0.052356</td>\n",
       "      <td>-0.046373</td>\n",
       "      <td>-0.054351</td>\n",
       "    </tr>\n",
       "    <tr>\n",
       "      <th>603914</th>\n",
       "      <td>2019-12-05</td>\n",
       "      <td>119.199997</td>\n",
       "      <td>120.260002</td>\n",
       "      <td>118.000000</td>\n",
       "      <td>120.110001</td>\n",
       "      <td>120.110001</td>\n",
       "      <td>2771100.0</td>\n",
       "      <td>ZTS</td>\n",
       "      <td>1246</td>\n",
       "      <td>0.003090</td>\n",
       "      <td>...</td>\n",
       "      <td>0.013404</td>\n",
       "      <td>-0.004026</td>\n",
       "      <td>0.012786</td>\n",
       "      <td>0.006353</td>\n",
       "      <td>0.000324</td>\n",
       "      <td>0.013404</td>\n",
       "      <td>0.009325</td>\n",
       "      <td>0.022230</td>\n",
       "      <td>0.028724</td>\n",
       "      <td>0.029057</td>\n",
       "    </tr>\n",
       "  </tbody>\n",
       "</table>\n",
       "<p>2 rows × 30 columns</p>\n",
       "</div>"
      ],
      "text/plain": [
       "              Date        Open        High         Low       Close  \\\n",
       "0       2015-01-12   40.610001   40.720001   39.950001   40.110001   \n",
       "603914  2019-12-05  119.199997  120.260002  118.000000  120.110001   \n",
       "\n",
       "         Adj Close     Volume Symbol  Row Count    t0_pct  ...    t1_pct  \\\n",
       "0        38.303940  2770800.0      A       1246 -0.011825  ... -0.013962   \n",
       "603914  120.110001  2771100.0    ZTS       1246  0.003090  ...  0.013404   \n",
       "\n",
       "          t2_pct    t3_pct    t4_pct    t5_pct  t1_cumu_pct  t2_cumu_pct  \\\n",
       "0      -0.012389 -0.026881  0.006314 -0.008366    -0.013962    -0.026178   \n",
       "603914 -0.004026  0.012786  0.006353  0.000324     0.013404     0.009325   \n",
       "\n",
       "        t3_cumu_pct  t4_cumu_pct  t5_cumu_pct  \n",
       "0         -0.052356    -0.046373    -0.054351  \n",
       "603914     0.022230     0.028724     0.029057  \n",
       "\n",
       "[2 rows x 30 columns]"
      ]
     },
     "execution_count": 3,
     "metadata": {},
     "output_type": "execute_result"
    }
   ],
   "source": [
    "# Read the cleaned data and sort by symbol and by data, to make sure the date is in right order for any analysis\n",
    "\n",
    "stock_with_pct=pd.read_csv(os.path.join('C:/Users/FN.LN/Documents/Market', 'SP500_FIVE_YR_Cleaned_Sorted_Ret.csv'),sep=',')\n",
    "ends(stock_with_pct)"
   ]
  },
  {
   "cell_type": "code",
   "execution_count": 4,
   "metadata": {},
   "outputs": [],
   "source": [
    "spy=stock_with_pct.loc[stock_with_pct['Symbol'] == 'SPY',].reset_index(drop=True)"
   ]
  },
  {
   "cell_type": "code",
   "execution_count": 5,
   "metadata": {},
   "outputs": [
    {
     "data": {
      "text/html": [
       "<div>\n",
       "<style scoped>\n",
       "    .dataframe tbody tr th:only-of-type {\n",
       "        vertical-align: middle;\n",
       "    }\n",
       "\n",
       "    .dataframe tbody tr th {\n",
       "        vertical-align: top;\n",
       "    }\n",
       "\n",
       "    .dataframe thead th {\n",
       "        text-align: right;\n",
       "    }\n",
       "</style>\n",
       "<table border=\"1\" class=\"dataframe\">\n",
       "  <thead>\n",
       "    <tr style=\"text-align: right;\">\n",
       "      <th></th>\n",
       "      <th>Date</th>\n",
       "      <th>Open</th>\n",
       "      <th>High</th>\n",
       "      <th>Low</th>\n",
       "      <th>Close</th>\n",
       "      <th>Adj Close</th>\n",
       "      <th>Volume</th>\n",
       "      <th>Symbol</th>\n",
       "      <th>Row Count</th>\n",
       "      <th>t0_pct</th>\n",
       "      <th>...</th>\n",
       "      <th>t1_pct</th>\n",
       "      <th>t2_pct</th>\n",
       "      <th>t3_pct</th>\n",
       "      <th>t4_pct</th>\n",
       "      <th>t5_pct</th>\n",
       "      <th>t1_cumu_pct</th>\n",
       "      <th>t2_cumu_pct</th>\n",
       "      <th>t3_cumu_pct</th>\n",
       "      <th>t4_cumu_pct</th>\n",
       "      <th>t5_cumu_pct</th>\n",
       "    </tr>\n",
       "  </thead>\n",
       "  <tbody>\n",
       "    <tr>\n",
       "      <th>0</th>\n",
       "      <td>2015-01-12</td>\n",
       "      <td>204.410004</td>\n",
       "      <td>204.600006</td>\n",
       "      <td>201.919998</td>\n",
       "      <td>202.649994</td>\n",
       "      <td>184.542984</td>\n",
       "      <td>144396100.0</td>\n",
       "      <td>SPY</td>\n",
       "      <td>1246</td>\n",
       "      <td>-0.007834</td>\n",
       "      <td>...</td>\n",
       "      <td>-0.002813</td>\n",
       "      <td>-0.006037</td>\n",
       "      <td>-0.009160</td>\n",
       "      <td>0.013114</td>\n",
       "      <td>0.002133</td>\n",
       "      <td>-0.002813</td>\n",
       "      <td>-0.008833</td>\n",
       "      <td>-0.017912</td>\n",
       "      <td>-0.005033</td>\n",
       "      <td>-0.002911</td>\n",
       "    </tr>\n",
       "    <tr>\n",
       "      <th>1234</th>\n",
       "      <td>2019-12-05</td>\n",
       "      <td>312.230011</td>\n",
       "      <td>312.250000</td>\n",
       "      <td>310.579987</td>\n",
       "      <td>312.019989</td>\n",
       "      <td>312.019989</td>\n",
       "      <td>40709000.0</td>\n",
       "      <td>SPY</td>\n",
       "      <td>1246</td>\n",
       "      <td>0.001798</td>\n",
       "      <td>...</td>\n",
       "      <td>0.009134</td>\n",
       "      <td>-0.003144</td>\n",
       "      <td>-0.001115</td>\n",
       "      <td>0.002839</td>\n",
       "      <td>0.005216</td>\n",
       "      <td>0.009134</td>\n",
       "      <td>0.005961</td>\n",
       "      <td>0.004839</td>\n",
       "      <td>0.007692</td>\n",
       "      <td>0.012948</td>\n",
       "    </tr>\n",
       "  </tbody>\n",
       "</table>\n",
       "<p>2 rows × 30 columns</p>\n",
       "</div>"
      ],
      "text/plain": [
       "            Date        Open        High         Low       Close   Adj Close  \\\n",
       "0     2015-01-12  204.410004  204.600006  201.919998  202.649994  184.542984   \n",
       "1234  2019-12-05  312.230011  312.250000  310.579987  312.019989  312.019989   \n",
       "\n",
       "           Volume Symbol  Row Count    t0_pct  ...    t1_pct    t2_pct  \\\n",
       "0     144396100.0    SPY       1246 -0.007834  ... -0.002813 -0.006037   \n",
       "1234   40709000.0    SPY       1246  0.001798  ...  0.009134 -0.003144   \n",
       "\n",
       "        t3_pct    t4_pct    t5_pct  t1_cumu_pct  t2_cumu_pct  t3_cumu_pct  \\\n",
       "0    -0.009160  0.013114  0.002133    -0.002813    -0.008833    -0.017912   \n",
       "1234 -0.001115  0.002839  0.005216     0.009134     0.005961     0.004839   \n",
       "\n",
       "      t4_cumu_pct  t5_cumu_pct  \n",
       "0       -0.005033    -0.002911  \n",
       "1234     0.007692     0.012948  \n",
       "\n",
       "[2 rows x 30 columns]"
      ]
     },
     "execution_count": 5,
     "metadata": {},
     "output_type": "execute_result"
    }
   ],
   "source": [
    "ends(spy)"
   ]
  },
  {
   "cell_type": "code",
   "execution_count": 6,
   "metadata": {},
   "outputs": [
    {
     "data": {
      "text/plain": [
       "<matplotlib.axes._subplots.AxesSubplot at 0x1d1a8eb09e8>"
      ]
     },
     "execution_count": 6,
     "metadata": {},
     "output_type": "execute_result"
    },
    {
     "data": {
      "image/png": "[encoded data removed]",
      "text/plain": [
       "<Figure size 432x288 with 1 Axes>"
      ]
     },
     "metadata": {
      "needs_background": "light"
     },
     "output_type": "display_data"
    }
   ],
   "source": [
    "spy.plot(x='Date',y='t0_pct')"
   ]
  },
  {
   "cell_type": "code",
   "execution_count": 7,
   "metadata": {},
   "outputs": [
    {
     "data": {
      "text/plain": [
       "array([[<matplotlib.axes._subplots.AxesSubplot object at 0x000001D1A918DEB8>]],\n",
       "      dtype=object)"
      ]
     },
     "execution_count": 7,
     "metadata": {},
     "output_type": "execute_result"
    },
    {
     "data": {
      "image/png": "[encoded data removed]",
      "text/plain": [
       "<Figure size 432x288 with 1 Axes>"
      ]
     },
     "metadata": {
      "needs_background": "light"
     },
     "output_type": "display_data"
    }
   ],
   "source": [
    "spy.hist(column='t0_pct',bins=50)"
   ]
  },
  {
   "cell_type": "markdown",
   "metadata": {},
   "source": [
    "Now, let’s look at some statistical tests. A simple one that you can use is to look at the mean and variance of multiple sections of the data and compare them. If they are similar, your data is most likely stationary.\n",
    "There are many different ways to split the data for this check, but one way I like to do this is to follow the approach highlighted here: \n",
    "\n",
    "https://stackoverflow.com/questions/38250710/how-to-split-data-into-3-sets-train-validation-and-test/38251213#38251213"
   ]
  },
  {
   "cell_type": "code",
   "execution_count": 8,
   "metadata": {},
   "outputs": [],
   "source": [
    "one, two, three = np.split(\n",
    "        spy['t0_pct'].sample(\n",
    "        frac=1), [int(.25*len(spy['t0_pct'])),\n",
    "        int(.75*len(spy['t0_pct']))])"
   ]
  },
  {
   "cell_type": "markdown",
   "metadata": {},
   "source": [
    "The above code creates three new series. I randomly selected 25% for series one and 75% for the two and three – but you could create them of equal length if you wanted. I like making them different sizes just for a bit of extra randomness to the test.\n",
    "\n",
    "Next, we’ll look at the means and variances of each series to see what they look like. Remember, if the data is stationary, the means/variances should be similar."
   ]
  },
  {
   "cell_type": "code",
   "execution_count": 9,
   "metadata": {},
   "outputs": [
    {
     "name": "stdout",
     "output_type": "stream",
     "text": [
      "0.000790998328987481 -0.0001428456428847395 0.0013155087663279546\n",
      "6.2329930285163e-05 7.469593195117852e-05 7.435758558987376e-05\n"
     ]
    }
   ],
   "source": [
    "mean1, mean2, mean3 = one.mean(), two.mean(), three.mean()\n",
    "var1, var2, var3 = one.var(), two.var(), three.var()\n",
    " \n",
    "print (mean1, mean2, mean3)\n",
    "print (var1, var2, var3)"
   ]
  },
  {
   "cell_type": "markdown",
   "metadata": {},
   "source": [
    "The output of means and vars look close enough to be stationary data\n",
    "\n",
    "Now that you know how to find stationarity using some plots and some basic stats, you should know that the above tests can be fooled sometimes, especially since they make assumptions about your data. So…don’t rely on these only…they’re a quick way to see what you have without having to pull out the big guns and run things like the Dickey-Fuller test."
   ]
  },
  {
   "cell_type": "markdown",
   "metadata": {},
   "source": [
    "# Dickey-Fuller Test for Stationarity\n",
    "Officially, this is called the ‘augmented Dickey-Fuller test’, but most folks just say ‘Dickey-Fuller’ when talking about it.  This is a test that tests the null hypothesis that a unit root is present in time series data.    To make things a bit more clear, this test is checking for stationarity or non-stationary data.  The test is trying to reject the null hypothesis that a unit root exists and the data is non-stationary. If the null hypothesis is rejected, then the alternate can be considered valid (e.g., the data is stationary).  You can read more about the test here if interested.\n",
    "\n",
    "When you run the test, you’ll get an ADF value and a p-value. The ADF number should be a negative number and the p-value should be beneath a certain threshold value (e.g., 1% or 5%, etc) for a confidence level. For this example, we’ll use 5% (or 95% confidence level), so if the p-value is greater than 0.05 then we say we fail to reject the null hypothesis because the data has a unit root and is non-stationary.  If the p-value is less than or equal to 0.05, we can say we reject the null hypothesis because the data does not have a unit root and is stationary.\n",
    "\n",
    "Let’s run the Augmented Dickey-Fuller test and see what we see.  The statsmodels library has a function called adfuller to make it easy for us to run this test."
   ]
  },
  {
   "cell_type": "code",
   "execution_count": null,
   "metadata": {},
   "outputs": [],
   "source": [
    "from statsmodels.tsa.stattools import adfuller\n",
    " \n",
    "adf_test = adfuller(spy['t0_pct'])\n",
    " \n",
    "print (\"ADF = \" + str(adf_test[0]))\n",
    "print (\"p-value = \" +str(adf_test[1]))"
   ]
  },
  {
   "cell_type": "markdown",
   "metadata": {},
   "source": [
    "ADF = -26.41392880761128\n",
    "\n",
    "p-value = 0.0\n",
    "\n",
    "Our p-value is definitely less than 0.5 and is even less than 0.01 so we can say with pretty good confidence that we can reject the null (unit root, non-stationary data) and can assume our data is stationary. "
   ]
  },
  {
   "cell_type": "markdown",
   "metadata": {},
   "source": [
    "# Check if a data set or time series is random by Lag Plot\n",
    "Lag plots are used to check if a data set or time series is random. Random data should not exhibit any structure in the lag plot. Non-random structure implies that the underlying data are not random"
   ]
  },
  {
   "cell_type": "code",
   "execution_count": 11,
   "metadata": {},
   "outputs": [
    {
     "data": {
      "text/plain": [
       "<matplotlib.axes._subplots.AxesSubplot at 0x1d1aa55ae80>"
      ]
     },
     "execution_count": 11,
     "metadata": {},
     "output_type": "execute_result"
    },
    {
     "data": {
      "image/png": "[encoded data removed]",
      "text/plain": [
       "<Figure size 432x288 with 1 Axes>"
      ]
     },
     "metadata": {
      "needs_background": "light"
     },
     "output_type": "display_data"
    }
   ],
   "source": [
    "pd.plotting.lag_plot(spy['t0_pct'], lag=1)"
   ]
  },
  {
   "cell_type": "markdown",
   "metadata": {},
   "source": [
    "# Checking randomness in time series using auto-correlation plot of Pandas\n",
    "Autocorrelation plots are often used for checking randomness in time series. This is done by computing autocorrelations for data values at varying time lags. If time series is random, such autocorrelations should be near zero for any and all time-lag separations. If time series is non-random then one or more of the autocorrelations will be significantly non-zero. The horizontal lines displayed in the plot correspond to 95% and 99% confidence bands. The dashed line is 99% confidence band."
   ]
  },
  {
   "cell_type": "code",
   "execution_count": 12,
   "metadata": {},
   "outputs": [],
   "source": [
    "from pandas.plotting import autocorrelation_plot"
   ]
  },
  {
   "cell_type": "code",
   "execution_count": 13,
   "metadata": {},
   "outputs": [
    {
     "data": {
      "text/plain": [
       "(-0.1, 0.1)"
      ]
     },
     "execution_count": 13,
     "metadata": {},
     "output_type": "execute_result"
    },
    {
     "data": {
      "image/png": "[encoded data removed]",
      "text/plain": [
       "<Figure size 432x288 with 1 Axes>"
      ]
     },
     "metadata": {
      "needs_background": "light"
     },
     "output_type": "display_data"
    }
   ],
   "source": [
    "autocorrelation_plot(spy['t0_pct'])\n",
    "plt.xlim(0,60)\n",
    "plt.ylim(-0.1,0.1)"
   ]
  },
  {
   "cell_type": "markdown",
   "metadata": {},
   "source": [
    "# Correlation and Autocorrelation by Statsmodels Library\n",
    "Statistical correlation summarizes the strength of the relationship between two variables.\n",
    "\n",
    "We can assume the distribution of each variable fits a Gaussian (bell curve) distribution. If this is the case, we can use the Pearson correlation coefficient to summarize the correlation between the variables.\n",
    "\n",
    "The Pearson correlation coefficient is a number between -1 and 1 that describes a negative or positive correlation respectively. A value of zero indicates no correlation.\n",
    "\n",
    "We can calculate the correlation for time series observations with observations with previous time steps, called lags. Because the correlation of the time series observations is calculated with values of the same series at previous times, this is called a serial correlation, or an autocorrelation.\n",
    "\n",
    "A plot of the autocorrelation of a time series by lag is called the AutoCorrelation Function, or the acronym ACF. This plot is sometimes called a correlogram or an autocorrelation plot.\n",
    "\n",
    "Below is an example of calculating and plotting the autocorrelation plot for the Minimum Daily Temperatures using the plot_acf() function from the statsmodels library."
   ]
  },
  {
   "cell_type": "code",
   "execution_count": 14,
   "metadata": {},
   "outputs": [],
   "source": [
    "from statsmodels.graphics.tsaplots import plot_acf"
   ]
  },
  {
   "cell_type": "code",
   "execution_count": 15,
   "metadata": {},
   "outputs": [
    {
     "data": {
      "text/plain": [
       "(-0.1, 0.1)"
      ]
     },
     "execution_count": 15,
     "metadata": {},
     "output_type": "execute_result"
    },
    {
     "data": {
      "image/png": "[encoded data removed]",
      "text/plain": [
       "<Figure size 432x288 with 1 Axes>"
      ]
     },
     "metadata": {
      "needs_background": "light"
     },
     "output_type": "display_data"
    }
   ],
   "source": [
    "plot_acf(spy['t0_pct'], lags = range(0,50))\n",
    "plt.ylim(-0.1,0.1)"
   ]
  },
  {
   "cell_type": "markdown",
   "metadata": {},
   "source": [
    "Running the example creates a 2D plot showing the lag value along the x-axis and the correlation on the y-axis between -1 and 1.\n",
    "\n",
    "Confidence intervals are drawn as a cone. By default, this is set to a 95% confidence interval, suggesting that correlation values outside of this code are very likely a correlation and not a statistical fluke.\n",
    "\n",
    "By default, all lag values are printed, which makes the plot noisy.\n",
    "\n",
    "We can limit the number of lags on the x-axis to 50, 20, 5 respectively to make the plots easier to read.\n",
    "\n",
    "# Partial Autocorrelation Function\n",
    "A partial autocorrelation is a summary of the relationship between an observation in a time series with observations at prior time steps with the relationships of intervening observations removed.\n",
    "\n",
    "The autocorrelation for an observation and an observation at a prior time step is comprised of both the direct correlation and indirect correlations. These indirect correlations are a linear function of the correlation of the observation, with observations at intervening time steps.\n",
    "\n",
    "It is these indirect correlations that the partial autocorrelation function seeks to remove. Without going into the math, this is the intuition for the partial autocorrelation.\n",
    "\n",
    "The example below calculates and plots a partial autocorrelation function for the first 50 lags in the Minimum Daily Temperatures dataset using the plot_pacf() from the statsmodels library."
   ]
  },
  {
   "cell_type": "code",
   "execution_count": 16,
   "metadata": {},
   "outputs": [],
   "source": [
    "from statsmodels.graphics.tsaplots import plot_pacf"
   ]
  },
  {
   "cell_type": "code",
   "execution_count": 17,
   "metadata": {},
   "outputs": [
    {
     "data": {
      "text/plain": [
       "(-0.1, 0.1)"
      ]
     },
     "execution_count": 17,
     "metadata": {},
     "output_type": "execute_result"
    },
    {
     "data": {
      "image/png": "[encoded data removed]",
      "text/plain": [
       "<Figure size 432x288 with 1 Axes>"
      ]
     },
     "metadata": {
      "needs_background": "light"
     },
     "output_type": "display_data"
    }
   ],
   "source": [
    "plot_pacf(spy['t0_pct'], lags = 50)\n",
    "plt.ylim(-0.1,0.1)"
   ]
  },
  {
   "cell_type": "code",
   "execution_count": null,
   "metadata": {},
   "outputs": [],
   "source": []
  }
 ],
 "metadata": {
  "kernelspec": {
   "display_name": "Python 3",
   "language": "python",
   "name": "python3"
  },
  "language_info": {
   "codemirror_mode": {
    "name": "ipython",
    "version": 3
   },
   "file_extension": ".py",
   "mimetype": "text/x-python",
   "name": "python",
   "nbconvert_exporter": "python",
   "pygments_lexer": "ipython3",
   "version": "3.7.0"
  }
 },
 "nbformat": 4,
 "nbformat_minor": 2
}
